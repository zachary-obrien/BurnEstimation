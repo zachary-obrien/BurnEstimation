{
 "cells": [
  {
   "cell_type": "code",
   "execution_count": 1,
   "metadata": {
    "collapsed": true
   },
   "outputs": [
    {
     "name": "stdout",
     "output_type": "stream",
     "text": [
      "Files already completed: ['./Dataset/full_coco/images/img10.jpg', './Dataset/full_coco/images/img100.jpg', './Dataset/full_coco/images/img101.jpg', './Dataset/full_coco/images/img102.jpg', './Dataset/full_coco/images/img103.jpg', './Dataset/full_coco/images/img104.jpg', './Dataset/full_coco/images/img105.jpg', './Dataset/full_coco/images/img106.jpg', './Dataset/full_coco/images/img107.jpg', './Dataset/full_coco/images/img108.jpg', './Dataset/full_coco/images/img109.jpg', './Dataset/full_coco/images/img11.jpg', './Dataset/full_coco/images/img110.jpg', './Dataset/full_coco/images/img111.jpg', './Dataset/full_coco/images/img112.jpg', './Dataset/full_coco/images/img113.jpg', './Dataset/full_coco/images/img114.jpg', './Dataset/full_coco/images/img115.jpg', './Dataset/full_coco/images/img116.jpg', './Dataset/full_coco/images/img117.jpg']\n",
      "Imported\n"
     ]
    }
   ],
   "source": [
    "import cv2\n",
    "import glob\n",
    "import os\n",
    "from skin_segmentation import *\n",
    "import pandas as pd\n",
    "from converter import RGB_TO_HSI\n",
    "\n",
    "annotation_folder = \"./Dataset/full_coco/combined_masks_by_category/\"\n",
    "image_folder = \"./Dataset/full_coco/images/\"\n",
    "\n",
    "# df = pd.DataFrame(columns = ['h', 's', 'i', 'burn_skin'])\n",
    "df = pd.read_csv(\"./Dataset/pixelwise_skin_and_burn.csv\")\n",
    "completed_files = []\n",
    "with open('./Dataset/completed_files.txt', 'r') as f:\n",
    "    for item in f:\n",
    "        completed_files.append(item.rstrip())\n",
    "print(\"Files already completed:\", completed_files)\n",
    "print(\"Imported\")"
   ]
  },
  {
   "cell_type": "code",
   "execution_count": null,
   "outputs": [
    {
     "name": "stdout",
     "output_type": "stream",
     "text": [
      "Files to process: 228\n",
      "Files Completed: 0\n",
      "Files Completed: 5\n",
      "Files Completed: 10\n",
      "Files Completed: 15\n",
      "Files Completed: 20\n",
      "Starting: img118.jpg\n"
     ]
    }
   ],
   "source": [
    "file_num = 0\n",
    "file_list = glob.glob(image_folder + \"*.jpg\")\n",
    "file_list.sort()\n",
    "\n",
    "print(\"Files to process:\", len(file_list))\n",
    "for filename in file_list:\n",
    "    if filename not in completed_files:\n",
    "        base_name = os.path.basename(filename)\n",
    "        skin_name = annotation_folder + base_name.replace(\".jpg\", \"_category1.jpg\")\n",
    "        burn_name = annotation_folder + base_name.replace(\".jpg\", \"_category2.jpg\")\n",
    "\n",
    "        if os.path.exists(skin_name) and os.path.exists(burn_name):\n",
    "            image = load_rgb_image(filename)\n",
    "            hsi_image = RGB_TO_HSI(image)\n",
    "            mask1 = cv2.imread(skin_name, cv2.IMREAD_GRAYSCALE) / 255\n",
    "            mask2 = cv2.imread(burn_name, cv2.IMREAD_GRAYSCALE) / 255\n",
    "            print(\"Starting:\", base_name)\n",
    "            for col in range(0, image.shape[1]):\n",
    "                for row in range(0, image.shape[0]):\n",
    "                    h, s, i = hsi_image[row,col]\n",
    "                    if mask2[row,col] > 0:\n",
    "                        new_df = pd.DataFrame({'h':h, 's':s, 'i':i, 'burn_skin':2}, index=[0])\n",
    "                        df = pd.concat([df, new_df], axis=0, ignore_index=True)\n",
    "                    elif mask1[row,col] > 0:\n",
    "                        new_df = pd.DataFrame({'h':h, 's':s, 'i':i, 'burn_skin':1}, index=[0])\n",
    "                        df = pd.concat([df, new_df], axis=0, ignore_index=True)\n",
    "                    else:\n",
    "                        new_df = pd.DataFrame({'h':h, 's':s, 'i':i, 'burn_skin':0}, index=[0])\n",
    "                        df = pd.concat([df, new_df], axis=0, ignore_index=True)\n",
    "            completed_files.append(filename)\n",
    "\n",
    "    if file_num % 5 == 0:\n",
    "        print(\"Files Completed:\", file_num)\n",
    "    df.to_csv(\"./Dataset/pixelwise_skin_and_burn.csv\",index=False)\n",
    "    with open('./Dataset/completed_files.txt', 'w') as f:\n",
    "        for item in completed_files:\n",
    "            f.write(item + \"\\n\" )\n",
    "    file_num += 1"
   ],
   "metadata": {
    "collapsed": false,
    "pycharm": {
     "name": "#%%\n",
     "is_executing": true
    }
   }
  },
  {
   "cell_type": "code",
   "execution_count": null,
   "outputs": [],
   "source": [
    "print(\"Files Completed:\", len(completed_files))\n",
    "print(\"Total Entries Should Be:\", (len(completed_files) * 250 * 250))\n",
    "print(\"Actual Entries:\", len(df))\n",
    "df.to_csv(\"./Dataset/pixelwise_skin_and_burn.csv\",index=False)\n"
   ],
   "metadata": {
    "collapsed": false,
    "pycharm": {
     "name": "#%%\n",
     "is_executing": true
    }
   }
  },
  {
   "cell_type": "code",
   "execution_count": null,
   "outputs": [],
   "source": [
    "\n",
    "\n"
   ],
   "metadata": {
    "collapsed": false,
    "pycharm": {
     "name": "#%%\n",
     "is_executing": true
    }
   }
  },
  {
   "cell_type": "code",
   "execution_count": null,
   "outputs": [],
   "source": [
    "\n",
    "\n"
   ],
   "metadata": {
    "collapsed": false,
    "pycharm": {
     "name": "#%%\n",
     "is_executing": true
    }
   }
  },
  {
   "cell_type": "code",
   "execution_count": null,
   "outputs": [],
   "source": [
    "\n",
    "\n"
   ],
   "metadata": {
    "collapsed": false,
    "pycharm": {
     "name": "#%%\n",
     "is_executing": true
    }
   }
  }
 ],
 "metadata": {
  "kernelspec": {
   "display_name": "Python 3",
   "language": "python",
   "name": "python3"
  },
  "language_info": {
   "codemirror_mode": {
    "name": "ipython",
    "version": 2
   },
   "file_extension": ".py",
   "mimetype": "text/x-python",
   "name": "python",
   "nbconvert_exporter": "python",
   "pygments_lexer": "ipython2",
   "version": "2.7.6"
  }
 },
 "nbformat": 4,
 "nbformat_minor": 0
}