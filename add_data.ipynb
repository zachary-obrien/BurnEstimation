{
 "cells": [
  {
   "cell_type": "code",
   "execution_count": null,
   "metadata": {
    "collapsed": true
   },
   "outputs": [],
   "source": [
    "import glob\n",
    "from dtree_skin_segmentation import *\n"
   ]
  },
  {
   "cell_type": "code",
   "execution_count": null,
   "outputs": [],
   "source": [
    "for filename in glob.glob(\"./Dataset/*.png\"):\n",
    "    image_file = load_rgb_image(filename)\n",
    "    hsi_image = RGB_TO_HSI(image_file, BGR=False)\n",
    "    \n",
    "    for col in range(0, hsi_image.shape[1]):\n",
    "        for row in range(0, hsi_image.shape[0]):\n",
    "            pixel = hsi_image[row,col]\n",
    "            \n",
    "    \n"
   ],
   "metadata": {
    "collapsed": false,
    "pycharm": {
     "name": "#%%\n"
    }
   }
  }
 ],
 "metadata": {
  "kernelspec": {
   "display_name": "Python 3",
   "language": "python",
   "name": "python3"
  },
  "language_info": {
   "codemirror_mode": {
    "name": "ipython",
    "version": 2
   },
   "file_extension": ".py",
   "mimetype": "text/x-python",
   "name": "python",
   "nbconvert_exporter": "python",
   "pygments_lexer": "ipython2",
   "version": "2.7.6"
  }
 },
 "nbformat": 4,
 "nbformat_minor": 0
}