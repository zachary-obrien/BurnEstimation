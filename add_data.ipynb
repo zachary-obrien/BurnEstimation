{
 "cells": [
  {
   "cell_type": "code",
   "execution_count": 8,
   "metadata": {
    "collapsed": true
   },
   "outputs": [],
   "source": [
    "import numpy as np\n",
    "import matplotlib.pyplot as plt\n",
    "\n",
    "from dtree_skin_segmentation import *\n",
    "import pandas as pd\n"
   ]
  },
  {
   "cell_type": "code",
   "execution_count": 9,
   "outputs": [],
   "source": [
    "# Basic structure of the data file\n",
    "df = pd.DataFrame(columns = ['h', 's', 'i', 'burn_skin'])\n"
   ],
   "metadata": {
    "collapsed": false,
    "pycharm": {
     "name": "#%%\n"
    }
   }
  },
  {
   "cell_type": "code",
   "execution_count": 10,
   "outputs": [
    {
     "name": "stdout",
     "output_type": "stream",
     "text": [
      "Processing: ./Dataset/background3.jpeg\n"
     ]
    }
   ],
   "source": [
    "images = []\n",
    "pixel_list = []\n",
    "# list of images containing only background pixels to be classified\n",
    "background_files = ['./Dataset/background3.jpeg'#,\n",
    "                    #'./Dataset/real_image2_background.png',\n",
    "                    # './Dataset/real_image3_background.png',\n",
    "                    # './Dataset/real_image4_background.png',\n",
    "                    # './Dataset/empty_background1.jpeg',\n",
    "                    # './Dataset/empty_background2.jpeg'\n",
    "                    ]\n",
    "# loop through images\n",
    "for filename in background_files:\n",
    "    print(\"Processing:\", filename)\n",
    "    image_file = load_rgb_image(filename)\n",
    "    # convert to HSI\n",
    "    hsi_image = RGB_TO_HSI(image_file, BGR=False)\n",
    "    images.append(image_file)\n",
    "    # get each pixel\n",
    "    for col in range(0, hsi_image.shape[1]):\n",
    "        for row in range(0, hsi_image.shape[0]):\n",
    "            h, s, i = hsi_image[row,col]\n",
    "            # add it to an array (later to be appended to dataframe)\n",
    "            # background is class 0\n",
    "            pixel_list.append({'h':h, 's':s, 'i':i, 'burn_skin':0})\n",
    "\n",
    "# Append data to the dataframe\n",
    "new_df = pd.DataFrame(pixel_list)\n",
    "df = pd.concat([df, new_df], axis=0, ignore_index=True)"
   ],
   "metadata": {
    "collapsed": false,
    "pycharm": {
     "name": "#%%\n"
    }
   }
  },
  {
   "cell_type": "code",
   "execution_count": 12,
   "outputs": [
    {
     "name": "stdout",
     "output_type": "stream",
     "text": [
      "Processing: ./Dataset/skin3.jpeg\n",
      "0\n",
      "12192768\n"
     ]
    }
   ],
   "source": [
    "# skin pixels to be added\n",
    "skin_files = ['./Dataset/skin3.jpeg']\n",
    "\n",
    "pixel_list2 = []\n",
    "red_pixels = 0\n",
    "total_pixels = 0\n",
    "# loop through images\n",
    "for filename in skin_files:\n",
    "    print(\"Processing:\", filename)\n",
    "    image_file = load_rgb_image(filename)\n",
    "    # convert to HSI\n",
    "    hsi_image = RGB_TO_HSI(image_file, BGR=False)\n",
    "\n",
    "    # loop through pixels\n",
    "    for col in range(0, hsi_image.shape[1]):\n",
    "        for row in range(0, hsi_image.shape[0]):\n",
    "            h, s, i = hsi_image[row,col]\n",
    "            # pixels that aren't skin are marked red and should\n",
    "            # be ignored. Unfortunately the photo software I was\n",
    "            # using put (251, 0, 7) as pure red instead of (255, 0, 0)\n",
    "            if tuple(image_file[row,col]) != (251, 0, 7):\n",
    "                pixel_list2.append({'h':h, 's':s, 'i':i, 'burn_skin':1})\n",
    "            else:\n",
    "                red_pixels += 1\n",
    "            total_pixels += 1\n",
    "# Append data to dataframe\n",
    "new_df = pd.DataFrame(pixel_list2)\n",
    "df = pd.concat([df, new_df], axis=0, ignore_index=True)\n",
    "# How many red pixels were there compared to all\n",
    "print(red_pixels)\n",
    "print(total_pixels)"
   ],
   "metadata": {
    "collapsed": false,
    "pycharm": {
     "name": "#%%\n"
    }
   }
  },
  {
   "cell_type": "code",
   "execution_count": 13,
   "outputs": [
    {
     "name": "stdout",
     "output_type": "stream",
     "text": [
      "Processing: ./Dataset/skin3.jpeg\n",
      "0\n",
      "24385536\n"
     ]
    }
   ],
   "source": [
    "# Exact same principle as above healthy skin, but with burn pixels\n",
    "burn_files = [\"./Dataset/burn.jpeg\"]\n",
    "pixel_list3 = []\n",
    "for filename in skin_files:\n",
    "    print(\"Processing:\", filename)\n",
    "    image_file = load_rgb_image(filename)\n",
    "    #print(np.unique(image_file))\n",
    "    hsi_image = RGB_TO_HSI(image_file, BGR=False)\n",
    "\n",
    "    for col in range(0, hsi_image.shape[1]):\n",
    "        for row in range(0, hsi_image.shape[0]):\n",
    "            h, s, i = hsi_image[row,col]\n",
    "            #print(image_file[row,col])\n",
    "            #print(type(image_file[row,col]))\n",
    "            if tuple(image_file[row,col]) != (251, 0, 7):\n",
    "                pixel_list2.append({'h':h, 's':s, 'i':i, 'burn_skin':2})\n",
    "            else:\n",
    "                red_pixels += 1\n",
    "            total_pixels += 1\n",
    "new_df = pd.DataFrame(pixel_list2)\n",
    "df = pd.concat([df, new_df], axis=0, ignore_index=True)\n",
    "print(red_pixels)\n",
    "print(total_pixels)"
   ],
   "metadata": {
    "collapsed": false,
    "pycharm": {
     "name": "#%%\n"
    }
   }
  },
  {
   "cell_type": "code",
   "execution_count": 14,
   "outputs": [],
   "source": [
    "# Save our new background/healthy skin/burns to a CSV for later use\n",
    "df.to_csv(\"./Dataset/additional_data2.csv\",index=False)\n"
   ],
   "metadata": {
    "collapsed": false,
    "pycharm": {
     "name": "#%%\n"
    }
   }
  }
 ],
 "metadata": {
  "kernelspec": {
   "display_name": "Python 3",
   "language": "python",
   "name": "python3"
  },
  "language_info": {
   "codemirror_mode": {
    "name": "ipython",
    "version": 2
   },
   "file_extension": ".py",
   "mimetype": "text/x-python",
   "name": "python",
   "nbconvert_exporter": "python",
   "pygments_lexer": "ipython2",
   "version": "2.7.6"
  }
 },
 "nbformat": 4,
 "nbformat_minor": 0
}