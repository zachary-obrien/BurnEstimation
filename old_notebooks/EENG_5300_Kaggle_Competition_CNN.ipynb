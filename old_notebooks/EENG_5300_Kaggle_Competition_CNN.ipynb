{
  "nbformat": 4,
  "nbformat_minor": 0,
  "metadata": {
    "colab": {
      "name": "EENG 5300 Kaggle Competition - CNN",
      "provenance": [],
      "collapsed_sections": [],
      "machine_shape": "hm"
    },
    "kernelspec": {
      "display_name": "Python 3",
      "name": "python3"
    },
    "language_info": {
      "name": "python"
    }
  },
  "cells": [
    {
      "cell_type": "code",
      "metadata": {
        "colab": {
          "base_uri": "https://localhost:8080/"
        },
        "id": "r9crpKwFFGjl",
        "outputId": "a2d32970-66d8-4a42-965a-33109816e4af"
      },
      "source": [
        "!curl -L \"https://docs.google.com/uc?export=download&id=1CgR9w26BU4nli_ecg-3Ukgc06NNOD3BD\" > csce5300-prediction-competition.zip\n",
        "!unzip csce5300-prediction-competition.zip -d ./"
      ],
      "execution_count": 11,
      "outputs": [
        {
          "output_type": "stream",
          "text": [
            "  % Total    % Received % Xferd  Average Speed   Time    Time     Time  Current\n",
            "                                 Dload  Upload   Total   Spent    Left  Speed\n",
            "100   388    0   388    0     0    889      0 --:--:-- --:--:-- --:--:--   889\n",
            "100  129k  100  129k    0     0   180k      0 --:--:-- --:--:-- --:--:--  180k\n",
            "Archive:  csce5300-prediction-competition.zip\n",
            "replace ./sample_prediction.csv? [y]es, [n]o, [A]ll, [N]one, [r]ename: A\n",
            "  inflating: ./sample_prediction.csv  \n",
            "  inflating: ./test_luc.csv          \n",
            "  inflating: ./train_luc.csv         \n",
            "  inflating: ./tutorial_code.ipynb   \n"
          ],
          "name": "stdout"
        }
      ]
    },
    {
      "cell_type": "code",
      "metadata": {
        "id": "cvHvW1IVCg8z"
      },
      "source": [
        "#%%\n",
        "\n",
        "# This is a tutorial to create a simple prediction model to perform the following\n",
        "# 1. Read in and show basic information about the training data\n",
        "# 2. Create a simple prediction model on a portion of the training data\n",
        "# 3. Test the quality of the model on a later portion of the data\n",
        "# 4. Create a final model using all the training data based on the best choices above\n",
        "# 5. Apply that model to the test data, to be scored on the kaggle.com site\n",
        "\n",
        "# FILES NEEDED: for this code to work, you will need train_luc.csv and test_luc.csv\n",
        "# in the same folder as this notebook"
      ],
      "execution_count": 12,
      "outputs": []
    },
    {
      "cell_type": "code",
      "metadata": {
        "id": "5-Bbcy9HCUVb"
      },
      "source": [
        "import pandas as pd\n",
        "import numpy as np\n",
        "import csv as csv\n",
        "from datetime import datetime\n",
        "import matplotlib.pyplot as plt\n",
        "\n",
        "%matplotlib inline"
      ],
      "execution_count": 13,
      "outputs": []
    },
    {
      "cell_type": "code",
      "metadata": {
        "colab": {
          "base_uri": "https://localhost:8080/",
          "height": 255
        },
        "id": "boR3MUtfCV4y",
        "outputId": "d5f8c41e-1252-43ac-f3b5-5870d0ee4b8f"
      },
      "source": [
        "# read the data and display the first 5 rows\n",
        "train_df = pd.read_csv('train_luc.csv', header=0)\n",
        "\n",
        "print(\"\\nNumber of samples:\",train_df.shape[0],\"and number of features:\",train_df.shape[1],\"\\n\")\n",
        "\n",
        "train_df.head()"
      ],
      "execution_count": 14,
      "outputs": [
        {
          "output_type": "stream",
          "text": [
            "\n",
            "Number of samples: 9174 and number of features: 12 \n",
            "\n"
          ],
          "name": "stdout"
        },
        {
          "output_type": "execute_result",
          "data": {
            "text/html": [
              "<div>\n",
              "<style scoped>\n",
              "    .dataframe tbody tr th:only-of-type {\n",
              "        vertical-align: middle;\n",
              "    }\n",
              "\n",
              "    .dataframe tbody tr th {\n",
              "        vertical-align: top;\n",
              "    }\n",
              "\n",
              "    .dataframe thead th {\n",
              "        text-align: right;\n",
              "    }\n",
              "</style>\n",
              "<table border=\"1\" class=\"dataframe\">\n",
              "  <thead>\n",
              "    <tr style=\"text-align: right;\">\n",
              "      <th></th>\n",
              "      <th>datetime</th>\n",
              "      <th>season</th>\n",
              "      <th>holiday</th>\n",
              "      <th>workingday</th>\n",
              "      <th>weather</th>\n",
              "      <th>temp</th>\n",
              "      <th>atemp</th>\n",
              "      <th>humidity</th>\n",
              "      <th>windspeed</th>\n",
              "      <th>casual</th>\n",
              "      <th>registered</th>\n",
              "      <th>count</th>\n",
              "    </tr>\n",
              "  </thead>\n",
              "  <tbody>\n",
              "    <tr>\n",
              "      <th>0</th>\n",
              "      <td>2011-01-01 00:00:00</td>\n",
              "      <td>1</td>\n",
              "      <td>0</td>\n",
              "      <td>0</td>\n",
              "      <td>1</td>\n",
              "      <td>9.84</td>\n",
              "      <td>14.395</td>\n",
              "      <td>81</td>\n",
              "      <td>0.0</td>\n",
              "      <td>3</td>\n",
              "      <td>13</td>\n",
              "      <td>16</td>\n",
              "    </tr>\n",
              "    <tr>\n",
              "      <th>1</th>\n",
              "      <td>2011-01-01 01:00:00</td>\n",
              "      <td>1</td>\n",
              "      <td>0</td>\n",
              "      <td>0</td>\n",
              "      <td>1</td>\n",
              "      <td>9.02</td>\n",
              "      <td>13.635</td>\n",
              "      <td>80</td>\n",
              "      <td>0.0</td>\n",
              "      <td>8</td>\n",
              "      <td>32</td>\n",
              "      <td>40</td>\n",
              "    </tr>\n",
              "    <tr>\n",
              "      <th>2</th>\n",
              "      <td>2011-01-01 02:00:00</td>\n",
              "      <td>1</td>\n",
              "      <td>0</td>\n",
              "      <td>0</td>\n",
              "      <td>1</td>\n",
              "      <td>9.02</td>\n",
              "      <td>13.635</td>\n",
              "      <td>80</td>\n",
              "      <td>0.0</td>\n",
              "      <td>5</td>\n",
              "      <td>27</td>\n",
              "      <td>32</td>\n",
              "    </tr>\n",
              "    <tr>\n",
              "      <th>3</th>\n",
              "      <td>2011-01-01 03:00:00</td>\n",
              "      <td>1</td>\n",
              "      <td>0</td>\n",
              "      <td>0</td>\n",
              "      <td>1</td>\n",
              "      <td>9.84</td>\n",
              "      <td>14.395</td>\n",
              "      <td>75</td>\n",
              "      <td>0.0</td>\n",
              "      <td>3</td>\n",
              "      <td>10</td>\n",
              "      <td>13</td>\n",
              "    </tr>\n",
              "    <tr>\n",
              "      <th>4</th>\n",
              "      <td>2011-01-01 04:00:00</td>\n",
              "      <td>1</td>\n",
              "      <td>0</td>\n",
              "      <td>0</td>\n",
              "      <td>1</td>\n",
              "      <td>9.84</td>\n",
              "      <td>14.395</td>\n",
              "      <td>75</td>\n",
              "      <td>0.0</td>\n",
              "      <td>0</td>\n",
              "      <td>1</td>\n",
              "      <td>1</td>\n",
              "    </tr>\n",
              "  </tbody>\n",
              "</table>\n",
              "</div>"
            ],
            "text/plain": [
              "              datetime  season  holiday  ...  casual  registered  count\n",
              "0  2011-01-01 00:00:00       1        0  ...       3          13     16\n",
              "1  2011-01-01 01:00:00       1        0  ...       8          32     40\n",
              "2  2011-01-01 02:00:00       1        0  ...       5          27     32\n",
              "3  2011-01-01 03:00:00       1        0  ...       3          10     13\n",
              "4  2011-01-01 04:00:00       1        0  ...       0           1      1\n",
              "\n",
              "[5 rows x 12 columns]"
            ]
          },
          "metadata": {
            "tags": []
          },
          "execution_count": 14
        }
      ]
    },
    {
      "cell_type": "markdown",
      "metadata": {
        "id": "Q1m7Zg97CbEV"
      },
      "source": [
        "# Understanding basic stats of the data set"
      ]
    },
    {
      "cell_type": "code",
      "metadata": {
        "colab": {
          "base_uri": "https://localhost:8080/",
          "height": 317
        },
        "id": "gc0DKfRMCZho",
        "outputId": "2a2699ed-f6f0-4e17-dd54-8268f00c5632"
      },
      "source": [
        "# read about the data elsewhere, however, it is critical to observe the data to make sure\n",
        "# everything is read in correctly and matches the description\n",
        "\n",
        "train_df.describe()"
      ],
      "execution_count": 15,
      "outputs": [
        {
          "output_type": "execute_result",
          "data": {
            "text/html": [
              "<div>\n",
              "<style scoped>\n",
              "    .dataframe tbody tr th:only-of-type {\n",
              "        vertical-align: middle;\n",
              "    }\n",
              "\n",
              "    .dataframe tbody tr th {\n",
              "        vertical-align: top;\n",
              "    }\n",
              "\n",
              "    .dataframe thead th {\n",
              "        text-align: right;\n",
              "    }\n",
              "</style>\n",
              "<table border=\"1\" class=\"dataframe\">\n",
              "  <thead>\n",
              "    <tr style=\"text-align: right;\">\n",
              "      <th></th>\n",
              "      <th>season</th>\n",
              "      <th>holiday</th>\n",
              "      <th>workingday</th>\n",
              "      <th>weather</th>\n",
              "      <th>temp</th>\n",
              "      <th>atemp</th>\n",
              "      <th>humidity</th>\n",
              "      <th>windspeed</th>\n",
              "      <th>casual</th>\n",
              "      <th>registered</th>\n",
              "      <th>count</th>\n",
              "    </tr>\n",
              "  </thead>\n",
              "  <tbody>\n",
              "    <tr>\n",
              "      <th>count</th>\n",
              "      <td>9174.000000</td>\n",
              "      <td>9174.000000</td>\n",
              "      <td>9174.000000</td>\n",
              "      <td>9174.000000</td>\n",
              "      <td>9174.000000</td>\n",
              "      <td>9174.000000</td>\n",
              "      <td>9174.000000</td>\n",
              "      <td>9174.000000</td>\n",
              "      <td>9174.000000</td>\n",
              "      <td>9174.000000</td>\n",
              "      <td>9174.000000</td>\n",
              "    </tr>\n",
              "    <tr>\n",
              "      <th>mean</th>\n",
              "      <td>2.505559</td>\n",
              "      <td>0.031284</td>\n",
              "      <td>0.678875</td>\n",
              "      <td>1.414868</td>\n",
              "      <td>20.130401</td>\n",
              "      <td>23.578433</td>\n",
              "      <td>61.715064</td>\n",
              "      <td>12.737931</td>\n",
              "      <td>35.713647</td>\n",
              "      <td>154.868106</td>\n",
              "      <td>190.581753</td>\n",
              "    </tr>\n",
              "    <tr>\n",
              "      <th>std</th>\n",
              "      <td>1.116618</td>\n",
              "      <td>0.174094</td>\n",
              "      <td>0.466934</td>\n",
              "      <td>0.635363</td>\n",
              "      <td>7.940504</td>\n",
              "      <td>8.617957</td>\n",
              "      <td>19.401829</td>\n",
              "      <td>8.199027</td>\n",
              "      <td>49.667738</td>\n",
              "      <td>150.981155</td>\n",
              "      <td>181.011530</td>\n",
              "    </tr>\n",
              "    <tr>\n",
              "      <th>min</th>\n",
              "      <td>1.000000</td>\n",
              "      <td>0.000000</td>\n",
              "      <td>0.000000</td>\n",
              "      <td>1.000000</td>\n",
              "      <td>0.820000</td>\n",
              "      <td>0.760000</td>\n",
              "      <td>0.000000</td>\n",
              "      <td>0.000000</td>\n",
              "      <td>0.000000</td>\n",
              "      <td>0.000000</td>\n",
              "      <td>1.000000</td>\n",
              "    </tr>\n",
              "    <tr>\n",
              "      <th>25%</th>\n",
              "      <td>2.000000</td>\n",
              "      <td>0.000000</td>\n",
              "      <td>0.000000</td>\n",
              "      <td>1.000000</td>\n",
              "      <td>13.940000</td>\n",
              "      <td>16.665000</td>\n",
              "      <td>46.000000</td>\n",
              "      <td>7.001500</td>\n",
              "      <td>4.000000</td>\n",
              "      <td>35.000000</td>\n",
              "      <td>41.000000</td>\n",
              "    </tr>\n",
              "    <tr>\n",
              "      <th>50%</th>\n",
              "      <td>3.000000</td>\n",
              "      <td>0.000000</td>\n",
              "      <td>1.000000</td>\n",
              "      <td>1.000000</td>\n",
              "      <td>20.500000</td>\n",
              "      <td>24.240000</td>\n",
              "      <td>61.000000</td>\n",
              "      <td>11.001400</td>\n",
              "      <td>16.000000</td>\n",
              "      <td>117.000000</td>\n",
              "      <td>144.000000</td>\n",
              "    </tr>\n",
              "    <tr>\n",
              "      <th>75%</th>\n",
              "      <td>4.000000</td>\n",
              "      <td>0.000000</td>\n",
              "      <td>1.000000</td>\n",
              "      <td>2.000000</td>\n",
              "      <td>27.060000</td>\n",
              "      <td>31.060000</td>\n",
              "      <td>78.000000</td>\n",
              "      <td>16.997900</td>\n",
              "      <td>48.000000</td>\n",
              "      <td>222.000000</td>\n",
              "      <td>282.000000</td>\n",
              "    </tr>\n",
              "    <tr>\n",
              "      <th>max</th>\n",
              "      <td>4.000000</td>\n",
              "      <td>1.000000</td>\n",
              "      <td>1.000000</td>\n",
              "      <td>4.000000</td>\n",
              "      <td>41.000000</td>\n",
              "      <td>45.455000</td>\n",
              "      <td>100.000000</td>\n",
              "      <td>56.996900</td>\n",
              "      <td>362.000000</td>\n",
              "      <td>886.000000</td>\n",
              "      <td>977.000000</td>\n",
              "    </tr>\n",
              "  </tbody>\n",
              "</table>\n",
              "</div>"
            ],
            "text/plain": [
              "            season      holiday  ...   registered        count\n",
              "count  9174.000000  9174.000000  ...  9174.000000  9174.000000\n",
              "mean      2.505559     0.031284  ...   154.868106   190.581753\n",
              "std       1.116618     0.174094  ...   150.981155   181.011530\n",
              "min       1.000000     0.000000  ...     0.000000     1.000000\n",
              "25%       2.000000     0.000000  ...    35.000000    41.000000\n",
              "50%       3.000000     0.000000  ...   117.000000   144.000000\n",
              "75%       4.000000     0.000000  ...   222.000000   282.000000\n",
              "max       4.000000     1.000000  ...   886.000000   977.000000\n",
              "\n",
              "[8 rows x 11 columns]"
            ]
          },
          "metadata": {
            "tags": []
          },
          "execution_count": 15
        }
      ]
    },
    {
      "cell_type": "markdown",
      "metadata": {
        "id": "MloNZE7nCkx3"
      },
      "source": [
        "# Create a new feature"
      ]
    },
    {
      "cell_type": "code",
      "metadata": {
        "colab": {
          "base_uri": "https://localhost:8080/",
          "height": 204
        },
        "id": "j1H7125gCnt7",
        "outputId": "87ef5d78-93d5-426a-c5df-3773884580ec"
      },
      "source": [
        "# let's take datetime (which isn't very useful to algorithms) and turn it into something useful.\n",
        "# e.g. this will create a new column for the hour\n",
        "def hour_of_day(dt):\n",
        "    return datetime.strptime(dt, \"%Y-%m-%d %H:%M:%S\").time().hour\n",
        "train_df['hour'] = train_df['datetime'].map(hour_of_day)\n",
        "train_df.head()\n",
        "# note the new column on the right labelled \"hour\""
      ],
      "execution_count": 16,
      "outputs": [
        {
          "output_type": "execute_result",
          "data": {
            "text/html": [
              "<div>\n",
              "<style scoped>\n",
              "    .dataframe tbody tr th:only-of-type {\n",
              "        vertical-align: middle;\n",
              "    }\n",
              "\n",
              "    .dataframe tbody tr th {\n",
              "        vertical-align: top;\n",
              "    }\n",
              "\n",
              "    .dataframe thead th {\n",
              "        text-align: right;\n",
              "    }\n",
              "</style>\n",
              "<table border=\"1\" class=\"dataframe\">\n",
              "  <thead>\n",
              "    <tr style=\"text-align: right;\">\n",
              "      <th></th>\n",
              "      <th>datetime</th>\n",
              "      <th>season</th>\n",
              "      <th>holiday</th>\n",
              "      <th>workingday</th>\n",
              "      <th>weather</th>\n",
              "      <th>temp</th>\n",
              "      <th>atemp</th>\n",
              "      <th>humidity</th>\n",
              "      <th>windspeed</th>\n",
              "      <th>casual</th>\n",
              "      <th>registered</th>\n",
              "      <th>count</th>\n",
              "      <th>hour</th>\n",
              "    </tr>\n",
              "  </thead>\n",
              "  <tbody>\n",
              "    <tr>\n",
              "      <th>0</th>\n",
              "      <td>2011-01-01 00:00:00</td>\n",
              "      <td>1</td>\n",
              "      <td>0</td>\n",
              "      <td>0</td>\n",
              "      <td>1</td>\n",
              "      <td>9.84</td>\n",
              "      <td>14.395</td>\n",
              "      <td>81</td>\n",
              "      <td>0.0</td>\n",
              "      <td>3</td>\n",
              "      <td>13</td>\n",
              "      <td>16</td>\n",
              "      <td>0</td>\n",
              "    </tr>\n",
              "    <tr>\n",
              "      <th>1</th>\n",
              "      <td>2011-01-01 01:00:00</td>\n",
              "      <td>1</td>\n",
              "      <td>0</td>\n",
              "      <td>0</td>\n",
              "      <td>1</td>\n",
              "      <td>9.02</td>\n",
              "      <td>13.635</td>\n",
              "      <td>80</td>\n",
              "      <td>0.0</td>\n",
              "      <td>8</td>\n",
              "      <td>32</td>\n",
              "      <td>40</td>\n",
              "      <td>1</td>\n",
              "    </tr>\n",
              "    <tr>\n",
              "      <th>2</th>\n",
              "      <td>2011-01-01 02:00:00</td>\n",
              "      <td>1</td>\n",
              "      <td>0</td>\n",
              "      <td>0</td>\n",
              "      <td>1</td>\n",
              "      <td>9.02</td>\n",
              "      <td>13.635</td>\n",
              "      <td>80</td>\n",
              "      <td>0.0</td>\n",
              "      <td>5</td>\n",
              "      <td>27</td>\n",
              "      <td>32</td>\n",
              "      <td>2</td>\n",
              "    </tr>\n",
              "    <tr>\n",
              "      <th>3</th>\n",
              "      <td>2011-01-01 03:00:00</td>\n",
              "      <td>1</td>\n",
              "      <td>0</td>\n",
              "      <td>0</td>\n",
              "      <td>1</td>\n",
              "      <td>9.84</td>\n",
              "      <td>14.395</td>\n",
              "      <td>75</td>\n",
              "      <td>0.0</td>\n",
              "      <td>3</td>\n",
              "      <td>10</td>\n",
              "      <td>13</td>\n",
              "      <td>3</td>\n",
              "    </tr>\n",
              "    <tr>\n",
              "      <th>4</th>\n",
              "      <td>2011-01-01 04:00:00</td>\n",
              "      <td>1</td>\n",
              "      <td>0</td>\n",
              "      <td>0</td>\n",
              "      <td>1</td>\n",
              "      <td>9.84</td>\n",
              "      <td>14.395</td>\n",
              "      <td>75</td>\n",
              "      <td>0.0</td>\n",
              "      <td>0</td>\n",
              "      <td>1</td>\n",
              "      <td>1</td>\n",
              "      <td>4</td>\n",
              "    </tr>\n",
              "  </tbody>\n",
              "</table>\n",
              "</div>"
            ],
            "text/plain": [
              "              datetime  season  holiday  ...  registered  count  hour\n",
              "0  2011-01-01 00:00:00       1        0  ...          13     16     0\n",
              "1  2011-01-01 01:00:00       1        0  ...          32     40     1\n",
              "2  2011-01-01 02:00:00       1        0  ...          27     32     2\n",
              "3  2011-01-01 03:00:00       1        0  ...          10     13     3\n",
              "4  2011-01-01 04:00:00       1        0  ...           1      1     4\n",
              "\n",
              "[5 rows x 13 columns]"
            ]
          },
          "metadata": {
            "tags": []
          },
          "execution_count": 16
        }
      ]
    },
    {
      "cell_type": "markdown",
      "metadata": {
        "id": "VP_wbQlzCpCR"
      },
      "source": [
        "# Make visualizations to better understand your data"
      ]
    },
    {
      "cell_type": "code",
      "metadata": {
        "colab": {
          "base_uri": "https://localhost:8080/",
          "height": 329
        },
        "id": "ey4v3Kd0CrFc",
        "outputId": "cad355a3-f89e-4306-89be-fe0964c9cfbe"
      },
      "source": [
        "# now let's take a look at the amerage amount of bike use for each hour of the day\n",
        "# as a \"sanity check\" to make sure the data makes sense before going further\n",
        "hours = np.unique(train_df['hour'])\n",
        "print(\"hours:\",hours)\n",
        "\n",
        "hours_mean = {}\n",
        "for h in hours:\n",
        "    temp_df = train_df.loc[train_df['hour'] == h]\n",
        "    hours_mean[h] = temp_df['count'].mean()\n",
        "\n",
        "# plot the results. Maybe should see peaks from bike commuting or evening use\n",
        "plt.bar(hours,[hours_mean[h] for h in hours])\n",
        "plt.xlabel(\"hour\")\n",
        "plt.ylabel(\"average number of bikes used\")\n",
        "plt.title(\"Measured bike use over 2 years\")"
      ],
      "execution_count": 17,
      "outputs": [
        {
          "output_type": "stream",
          "text": [
            "hours: [ 0  1  2  3  4  5  6  7  8  9 10 11 12 13 14 15 16 17 18 19 20 21 22 23]\n"
          ],
          "name": "stdout"
        },
        {
          "output_type": "execute_result",
          "data": {
            "text/plain": [
              "Text(0.5, 1.0, 'Measured bike use over 2 years')"
            ]
          },
          "metadata": {
            "tags": []
          },
          "execution_count": 17
        },
        {
          "output_type": "display_data",
          "data": {
            "image/png": "[encoded data removed]",
            "text/plain": [
              "<Figure size 432x288 with 1 Axes>"
            ]
          },
          "metadata": {
            "tags": [],
            "needs_background": "light"
          }
        }
      ]
    },
    {
      "cell_type": "markdown",
      "metadata": {
        "id": "OT8dwEdrCsZm"
      },
      "source": [
        "# Pick the features and the model\n"
      ]
    },
    {
      "cell_type": "code",
      "metadata": {
        "colab": {
          "base_uri": "https://localhost:8080/"
        },
        "id": "eeuvoQfUCtLf",
        "outputId": "43ca5ec4-45ee-4c82-bb01-0c73a0cdae32"
      },
      "source": [
        "# pick your features\n",
        "# cols = ['hour'] # clearly a simple model\n",
        "# try more features later, like...\n",
        "# cols = ['hour','season']\n",
        "required_cols = [\"hour\"]\n",
        "cols = ['season', \"holiday\", \"workingday\", \"weather\", \"atemp\", \"temp\", \"humidity\", \"windspeed\"]\n",
        "#cols = ['hour', 'season', 'workingday', 'weather', 'atemp']\n",
        "\n",
        "# pick your model (you should consider adjusting optional parameters too)\n",
        "# reading in a few models we can pick from (there are many others)\n",
        "from sklearn.tree import DecisionTreeRegressor\n",
        "from sklearn.linear_model import LinearRegression\n",
        "from sklearn.neighbors import KNeighborsRegressor\n",
        "from sklearn.svm import LinearSVR\n",
        "from sklearn.ensemble import RandomForestRegressor\n",
        "\n",
        "# pick one by commenting/uncommenting\n",
        "model1 = DecisionTreeRegressor()\n",
        "model2 = LinearRegression()\n",
        "model3 = KNeighborsRegressor(n_neighbors = 5)\n",
        "model4 = LinearSVR(max_iter=10000)\n",
        "model5 = RandomForestRegressor(n_estimators = 1)\n",
        "\n",
        "model_list = [model1, model2, model3, model4, model5]\n",
        "\n",
        "print(\"columns selected for later:\",cols)\n",
        "print(model4) # to get an idea of parameters and confirm model chosen"
      ],
      "execution_count": 18,
      "outputs": [
        {
          "output_type": "stream",
          "text": [
            "columns selected for later: ['season', 'holiday', 'workingday', 'weather', 'atemp', 'temp', 'humidity', 'windspeed']\n",
            "LinearSVR(C=1.0, dual=True, epsilon=0.0, fit_intercept=True,\n",
            "          intercept_scaling=1.0, loss='epsilon_insensitive', max_iter=10000,\n",
            "          random_state=None, tol=0.0001, verbose=0)\n"
          ],
          "name": "stdout"
        }
      ]
    },
    {
      "cell_type": "code",
      "metadata": {
        "id": "ZQczluI-2qQM"
      },
      "source": [
        "from sklearn.model_selection import train_test_split\n",
        "\n",
        "random_forest_cols = ['hour', 'season', 'holiday', 'workingday', 'weather', 'temp', 'humidity']\n",
        "\n",
        "train_vals = train_df[random_forest_cols]\n",
        "train_results = train_df['count']\n",
        "\n",
        "train_vals_cnn = train_vals.to_numpy()\n",
        "train_results_cnn = train_results.to_numpy()\n",
        "\n",
        "#train_vals_cnn = train_vals_cnn.reshape(train_vals_cnn.shape[0], \n",
        "#                                        train_vals_cnn.shape[1], 1)\n",
        "\n",
        "xtrain, xtest, ytrain, ytest=train_test_split(train_vals_cnn, train_results_cnn, \n",
        "                                                test_size=.3, random_state=42)\n",
        "\n",
        "for n in range(1, 1):\n",
        "    rf_model = RandomForestRegressor(n_estimators = n)\n",
        "\n",
        "    rf_model.fit(xtrain, ytrain)\n",
        "\n",
        "    ypred = rf_model.predict(xtest)\n",
        "\n",
        "    # score the model on the new test set\n",
        "    rms = np.sqrt(mean_squared_error(ytest, ypred))\n",
        "\n",
        "    print(n, \":\",rms)\n",
        "\n"
      ],
      "execution_count": 20,
      "outputs": []
    },
    {
      "cell_type": "code",
      "metadata": {
        "id": "0yXxjJQjwLse"
      },
      "source": [
        "import itertools\n",
        "\n",
        "all_combinations = []\n",
        "for r in range(len(cols) + 1):\n",
        "    combinations_object = itertools.combinations(cols, r)\n",
        "    combinations_list = list(combinations_object)\n",
        "    all_combinations += combinations_list\n",
        "\n",
        "# for combo in all_combinations:\n",
        "#     print(list(combo))\n",
        "\n",
        "#Test 1\n",
        "#all_combinations = [cols]\n",
        "# all_combinations = [['season', 'holiday', 'workingday', 'weather', 'temp', 'humidity'],\n",
        "#                     ['season', 'holiday', 'workingday', 'weather', 'temp', 'humidity', 'windspeed']\n",
        "#                     ]\n"
      ],
      "execution_count": 21,
      "outputs": []
    },
    {
      "cell_type": "code",
      "metadata": {
        "colab": {
          "base_uri": "https://localhost:8080/"
        },
        "id": "JhtjGUBf4qvi",
        "outputId": "8ad83cf8-35d5-44f6-f068-8abc2870b185"
      },
      "source": [
        "from sklearn.model_selection import RandomizedSearchCV\n",
        "from sklearn.metrics import mean_squared_error\n",
        "\n",
        "for combo in all_combinations:\n",
        "    combo = list(combo)\n",
        "    if len(combo) >= 2: \n",
        "        random_forest_cols = required_cols + combo\n",
        "        print(\"Starting with columns:\", random_forest_cols)\n",
        "        train_vals = train_df[random_forest_cols]\n",
        "        train_results = train_df['count']\n",
        "\n",
        "        train_vals_rf = train_vals.to_numpy()\n",
        "        train_results_rf = train_results.to_numpy()\n",
        "\n",
        "\n",
        "        xtrain, xtest, ytrain, ytest=train_test_split(train_vals_cnn, train_results_cnn, \n",
        "                                                test_size=.1, random_state=42)\n",
        "        # Number of trees in random forest\n",
        "        n_estimators = [int(x) for x in np.linspace(start = 1, stop = 1000, num = 10)]\n",
        "        # Number of features to consider at every split\n",
        "        max_features = ['auto', 'sqrt']\n",
        "        # Maximum number of levels in tree\n",
        "        max_depth = [int(x) for x in np.linspace(10, 110, num = 11)]\n",
        "        max_depth.append(None)\n",
        "        # Minimum number of samples required to split a node\n",
        "        min_samples_split = [2, 5, 10]\n",
        "        # Minimum number of samples required at each leaf node\n",
        "        min_samples_leaf = [1, 2, 4]\n",
        "        # Method of selecting samples for training each tree\n",
        "        bootstrap = [True, False]\n",
        "\n",
        "        # Create the random grid\n",
        "        random_grid = {'n_estimators': n_estimators,\n",
        "                    'max_features': max_features,\n",
        "                    'max_depth': max_depth,\n",
        "                    'min_samples_split': min_samples_split,\n",
        "                    'min_samples_leaf': min_samples_leaf,\n",
        "                    'bootstrap': bootstrap}\n",
        "\n",
        "        # Use the random grid to search for best hyperparameters\n",
        "        # First create the base model to tune\n",
        "        rf = RandomForestRegressor(random_state = 42)\n",
        "        # Random search of parameters, using 3 fold cross validation, \n",
        "        # search across 100 different combinations, and use all available cores\n",
        "        rf_random = RandomizedSearchCV(estimator=rf, param_distributions=random_grid,\n",
        "                                    n_iter = 100, scoring='neg_root_mean_squared_error', \n",
        "                                    cv = 10, verbose=0, random_state=42, n_jobs=3,\n",
        "                                    return_train_score=True)\n",
        "\n",
        "        # Fit the random search model\n",
        "        rf_random.fit(xtrain, ytrain)\n",
        "        # rf_model = RandomForestRegressor(n_estimators = 10)\n",
        "        #   predict on the testing subset of the original training data\n",
        "        ypred = rf_random.predict(xtest)\n",
        "\n",
        "        # score the model on the new test set\n",
        "        rms = np.sqrt(mean_squared_error(ytest, ypred))\n",
        "        # rf_model.fit(train_vals_cnn, train_results_cnn)\n",
        "        print(rms, \"For params:\", rf_random.best_params_)"
      ],
      "execution_count": null,
      "outputs": [
        {
          "output_type": "stream",
          "text": [
            "Starting with columns: ['hour', 'season', 'holiday']\n"
          ],
          "name": "stdout"
        },
        {
          "output_type": "stream",
          "text": [
            "/usr/local/lib/python3.7/dist-packages/joblib/externals/loky/process_executor.py:691: UserWarning: A worker stopped while some jobs were given to the executor. This can be caused by a too short worker timeout or by a memory leak.\n",
            "  \"timeout or by a memory leak.\", UserWarning\n"
          ],
          "name": "stderr"
        }
      ]
    },
    {
      "cell_type": "code",
      "metadata": {
        "colab": {
          "base_uri": "https://localhost:8080/"
        },
        "id": "QyDr_meO_hUx",
        "outputId": "a3ec19e0-7752-4fb7-9a94-1c1d582e3e00"
      },
      "source": [
        "import sklearn \n",
        "print(sorted(sklearn.metrics.SCORERS.keys()))"
      ],
      "execution_count": 27,
      "outputs": [
        {
          "output_type": "stream",
          "text": [
            "['accuracy', 'adjusted_mutual_info_score', 'adjusted_rand_score', 'average_precision', 'balanced_accuracy', 'completeness_score', 'explained_variance', 'f1', 'f1_macro', 'f1_micro', 'f1_samples', 'f1_weighted', 'fowlkes_mallows_score', 'homogeneity_score', 'jaccard', 'jaccard_macro', 'jaccard_micro', 'jaccard_samples', 'jaccard_weighted', 'max_error', 'mutual_info_score', 'neg_brier_score', 'neg_log_loss', 'neg_mean_absolute_error', 'neg_mean_gamma_deviance', 'neg_mean_poisson_deviance', 'neg_mean_squared_error', 'neg_mean_squared_log_error', 'neg_median_absolute_error', 'neg_root_mean_squared_error', 'normalized_mutual_info_score', 'precision', 'precision_macro', 'precision_micro', 'precision_samples', 'precision_weighted', 'r2', 'recall', 'recall_macro', 'recall_micro', 'recall_samples', 'recall_weighted', 'roc_auc', 'roc_auc_ovo', 'roc_auc_ovo_weighted', 'roc_auc_ovr', 'roc_auc_ovr_weighted', 'v_measure_score']\n"
          ],
          "name": "stdout"
        }
      ]
    },
    {
      "cell_type": "markdown",
      "metadata": {
        "id": "bX78ODSfCvoF"
      },
      "source": [
        "# Separate your training and test sets"
      ]
    },
    {
      "cell_type": "code",
      "metadata": {
        "colab": {
          "base_uri": "https://localhost:8080/"
        },
        "id": "dCsX1809CwjR",
        "outputId": "bb1c1e21-2e5e-4876-8b5f-c6fc21db9a48"
      },
      "source": [
        "# this is a way of splitting training and testing by hand\n",
        "# however, there are tools to do this automatically\n",
        "# google \"cross validation\" for a better/more advanced strategy\n",
        "#--------------------\n",
        "\n",
        "n = len(train_df) # get number of rows in the training set\n",
        "training_size = 0.75 # fraction of training data to split off for internal testing\n",
        "\n",
        "# set up separate training and testing sets\n",
        "# in this case using shuffled array indices\n",
        "# there are many more ways to do this too\n",
        "indices = np.array(range(n)) # makes an array of row indices in order\n",
        "from numpy.random import shuffle\n",
        "shuffle(indices)\n",
        "split_point = int(n*training_size)\n",
        "mytrain_i = indices[0:split_point]\n",
        "mytest_i = indices[split_point:]\n",
        "\n",
        "# now use those shuffled indices to separating training from test dataframes\n",
        "new_train_df = train_df.iloc[mytrain_i]\n",
        "new_test_df = train_df.iloc[mytest_i]\n",
        "\n",
        "print(\"samples in the new training subset:\",len(new_train_df))\n",
        "print(\"samples in the new test subset:\",len(new_test_df))"
      ],
      "execution_count": null,
      "outputs": [
        {
          "output_type": "stream",
          "text": [
            "samples in the new training subset: 6880\n",
            "samples in the new test subset: 2294\n"
          ],
          "name": "stdout"
        }
      ]
    },
    {
      "cell_type": "markdown",
      "metadata": {
        "id": "1_38KW7nCyn3"
      },
      "source": [
        "# Fit the model to a portion of the training set, test on the rest and evaluate\n"
      ]
    },
    {
      "cell_type": "code",
      "metadata": {
        "colab": {
          "base_uri": "https://localhost:8080/"
        },
        "id": "uz3V8VTaMwL4",
        "outputId": "93618db5-ba5e-4aa8-f688-5b924edd2776"
      },
      "source": [
        "print(cols)"
      ],
      "execution_count": null,
      "outputs": [
        {
          "output_type": "stream",
          "text": [
            "['season', 'holiday', 'workingday', 'weather', 'atemp', 'temp', 'humidity', 'windspeed']\n"
          ],
          "name": "stdout"
        }
      ]
    },
    {
      "cell_type": "code",
      "metadata": {
        "id": "5JWDku3hrqYM"
      },
      "source": [
        "from sklearn.datasets import load_boston\n",
        "from keras.models import Sequential\n",
        "from keras.layers import Dense, Conv1D, Flatten, Dropout, MaxPool1D, BatchNormalization, LeakyReLU,  ReLU\n",
        "from sklearn.model_selection import train_test_split\n",
        "from sklearn.metrics import mean_squared_error\n",
        "import matplotlib.pyplot as plt\n",
        "import tensorflow as tf\n",
        "from keras import losses, regularizers\n",
        "\n",
        "def sequential_nn(input_dims):\n",
        "    cnn_model = Sequential()\n",
        "    cnn_model.add(Conv1D(32, 2, activation=\"relu\", input_shape=input_dims))\n",
        "    cnn_model.add(Dense(64, activation=\"relu\"))\n",
        "    cnn_model.add(Dropout(0.3))\n",
        "    cnn_model.add(BatchNormalization())\n",
        "    cnn_model.add(MaxPool1D())\n",
        "    cnn_model.add(Flatten())\n",
        "    cnn_model.add(Dense(32, activation=\"relu\"))\n",
        "    cnn_model.add(Dense(15, activation=\"relu\"))\n",
        "    cnn_model.add(Dense(1))\n",
        "\n",
        "    return cnn_model\n"
      ],
      "execution_count": null,
      "outputs": []
    },
    {
      "cell_type": "code",
      "metadata": {
        "id": "etaoQdi1uLdR"
      },
      "source": [
        "def rmse_loss(ytest, ypred):\n",
        "    return np.sqrt(mean_squared_error(ytest, ypred))"
      ],
      "execution_count": null,
      "outputs": []
    },
    {
      "cell_type": "code",
      "metadata": {
        "colab": {
          "base_uri": "https://localhost:8080/"
        },
        "id": "B-owxiIgUhWj",
        "outputId": "4dad0cbf-a2bf-4a07-9d00-4186f1b0e035"
      },
      "source": [
        "best_model_cols = \"\"\n",
        "best_score = 99999\n",
        "best_model = None\n",
        "\n",
        "NUM_EPOCHS = 50000\n",
        "BATCH_SIZE = 256\n",
        "TRAIN_TEST_SIZE = 0.15\n",
        "\n",
        "for combo in all_combinations:\n",
        "    combo = list(combo)\n",
        "    if len(combo) >= 2: \n",
        "        for loss_var in range(1,3):\n",
        "            loss_type = 'mae'\n",
        "            if loss_var % 2 ==0:\n",
        "                loss_type = 'mse'\n",
        "            combo = required_cols + combo\n",
        "            \n",
        "            train_vals = train_df[combo]\n",
        "            train_results = train_df['count']\n",
        "\n",
        "            train_vals_cnn = train_vals.to_numpy()\n",
        "            train_results_cnn = train_results.to_numpy()\n",
        "\n",
        "            train_vals_cnn = train_vals_cnn.reshape(train_vals_cnn.shape[0], \n",
        "                                                    train_vals_cnn.shape[1], 1)\n",
        "\n",
        "            xtrain, xtest, ytrain, ytest=train_test_split(train_vals_cnn, train_results_cnn, \n",
        "                                                            test_size=TRAIN_TEST_SIZE, random_state=42)\n",
        "            \n",
        "            cnn_model = sequential_nn(input_dims=(len(combo), 1))\n",
        "\n",
        "            cnn_model.compile(loss=loss_type, optimizer=\"adam\", metrics=['mae', 'mse'])\n",
        "\n",
        "            # print(\"Started Training\", list(combo))\n",
        "            # try on whole model?\n",
        "            # cnn_model.fit(train_vals_cnn, train_results_cnn, batch_size=64, epochs=1000, verbose=0)\n",
        "\n",
        "            cnn_model.fit(xtrain, ytrain, batch_size=BATCH_SIZE, epochs=NUM_EPOCHS, verbose=0)\n",
        "\n",
        "            # predict on the testing subset of the original training data\n",
        "            ypred = cnn_model.predict(xtest)\n",
        "\n",
        "            # score the model on the new test set\n",
        "            rms = np.sqrt(mean_squared_error(ytest, ypred))\n",
        "            if rms < best_score:\n",
        "                best_score = rms\n",
        "                best_model_cols = combo\n",
        "                best_model = cnn_model\n",
        "            print(rms, list(combo), \"with loss type\", loss_type)\n",
        "\n",
        "print(\"Best cols: \", best_model_cols)\n",
        "print(\"With RMSE: \", best_score)"
      ],
      "execution_count": 34,
      "outputs": [
        {
          "output_type": "stream",
          "text": [
            "82.35057898555314 ['hour', 'season', 'holiday', 'workingday', 'weather', 'temp', 'humidity'] with loss type mae\n",
            "83.64125802333912 ['hour', 'hour', 'season', 'holiday', 'workingday', 'weather', 'temp', 'humidity'] with loss type mse\n",
            "81.90216047214496 ['hour', 'season', 'holiday', 'workingday', 'weather', 'temp', 'humidity', 'windspeed'] with loss type mae\n",
            "72.13525380807054 ['hour', 'hour', 'season', 'holiday', 'workingday', 'weather', 'temp', 'humidity', 'windspeed'] with loss type mse\n",
            "Best cols:  ['hour', 'hour', 'season', 'holiday', 'workingday', 'weather', 'temp', 'humidity', 'windspeed']\n",
            "With RMSE:  72.13525380807054\n"
          ],
          "name": "stdout"
        }
      ]
    },
    {
      "cell_type": "code",
      "metadata": {
        "id": "L8oLJ_IEDywy",
        "colab": {
          "base_uri": "https://localhost:8080/"
        },
        "outputId": "a482bcba-e5b7-41d4-d57d-85c46f5ee645"
      },
      "source": [
        "print(\"Best cols: \", best_model_cols)\n",
        "print(\"With RMSE: \", best_score)"
      ],
      "execution_count": 35,
      "outputs": [
        {
          "output_type": "stream",
          "text": [
            "Best cols:  ['hour', 'hour', 'season', 'holiday', 'workingday', 'weather', 'temp', 'humidity', 'windspeed']\n",
            "With RMSE:  72.13525380807054\n"
          ],
          "name": "stdout"
        }
      ]
    },
    {
      "cell_type": "code",
      "metadata": {
        "id": "JZsec1kCeBXC",
        "colab": {
          "base_uri": "https://localhost:8080/"
        },
        "outputId": "b1436fbf-8613-47d3-863e-0f740c452f39"
      },
      "source": [
        "best_model.save(\"best_model\")\n",
        "#print(ytest)"
      ],
      "execution_count": 36,
      "outputs": [
        {
          "output_type": "stream",
          "text": [
            "INFO:tensorflow:Assets written to: best_model/assets\n"
          ],
          "name": "stdout"
        }
      ]
    },
    {
      "cell_type": "code",
      "metadata": {
        "id": "4dWCrmK1Dd9g",
        "colab": {
          "base_uri": "https://localhost:8080/"
        },
        "outputId": "3420f5b7-a610-4ba8-df0a-c5b984563bd0"
      },
      "source": [
        "!zip best_model best_model/"
      ],
      "execution_count": 37,
      "outputs": [
        {
          "output_type": "stream",
          "text": [
            "  adding: best_model/ (stored 0%)\n"
          ],
          "name": "stdout"
        }
      ]
    },
    {
      "cell_type": "code",
      "metadata": {
        "id": "4UrYvIy8HdMX",
        "colab": {
          "base_uri": "https://localhost:8080/"
        },
        "outputId": "b62939aa-67e7-4390-9625-f57b0a26607c"
      },
      "source": [
        "from sklearn.model_selection import cross_val_score\n",
        "from sklearn.model_selection import KFold\n",
        "import numpy as np\n",
        "from sklearn.metrics import make_scorer, mean_squared_error\n",
        "\n",
        "def rmse(y_actual, y_predicted, **kwargs):\n",
        "    return np.sqrt(mean_squared_error(y_actual, y_predicted))\n",
        "\n",
        "rmse_scorer = make_scorer(rmse, greater_is_better=False)\n",
        "for model in model_list:\n",
        "    folds = KFold(n_splits = 5, shuffle = True, random_state = 100)\n",
        "    scores = cross_val_score(model, new_train_df[cols], new_train_df['count'], scoring=rmse_scorer, cv=folds)\n",
        "    print(scores)"
      ],
      "execution_count": 38,
      "outputs": [
        {
          "output_type": "stream",
          "text": [
            "[-199.18508106 -197.48528981 -194.72540067 -195.94159701 -197.24219334]\n",
            "[-154.98707785 -155.99872065 -150.64972953 -159.08460825 -152.5441461 ]\n",
            "[-160.84234653 -161.09023941 -156.90967156 -163.95868214 -160.02447732]\n",
            "[-158.65941902 -160.90133469 -154.47777158 -163.72152314 -157.40522715]\n",
            "[-200.73793049 -212.4159268  -193.63891877 -201.44112526 -202.96828467]\n"
          ],
          "name": "stdout"
        }
      ]
    },
    {
      "cell_type": "code",
      "metadata": {
        "id": "Rmf2FnSoCz1W",
        "colab": {
          "base_uri": "https://localhost:8080/",
          "height": 392
        },
        "outputId": "675473cc-ba8f-4ea0-ac45-fc31e79cb86e"
      },
      "source": [
        "# fit the model to the training subset of original training data\n",
        "best_model = None\n",
        "best_rmse = None\n",
        "for model in model_list:\n",
        "    #model.fit(new_train_df[cols], new_train_df['count'])\n",
        "\n",
        "    # predict on the testing subset of the original training data\n",
        "    pred_count = model.predict(new_test_df[cols])\n",
        "\n",
        "    # score the model on the new test set\n",
        "    rms = np.sqrt(mean_squared_error(new_test_df['count'],pred_count))\n",
        "    print(\"RMS error:\",rms)\n",
        "    if best_model is None or rms < best_rmse:\n",
        "        best_model = model\n",
        "        best_rmse = rms"
      ],
      "execution_count": 39,
      "outputs": [
        {
          "output_type": "error",
          "ename": "NotFittedError",
          "evalue": "ignored",
          "traceback": [
            "\u001b[0;31m---------------------------------------------------------------------------\u001b[0m",
            "\u001b[0;31mNotFittedError\u001b[0m                            Traceback (most recent call last)",
            "\u001b[0;32m<ipython-input-39-17c70676f8b6>\u001b[0m in \u001b[0;36m<module>\u001b[0;34m()\u001b[0m\n\u001b[1;32m      6\u001b[0m \u001b[0;34m\u001b[0m\u001b[0m\n\u001b[1;32m      7\u001b[0m     \u001b[0;31m# predict on the testing subset of the original training data\u001b[0m\u001b[0;34m\u001b[0m\u001b[0;34m\u001b[0m\u001b[0;34m\u001b[0m\u001b[0m\n\u001b[0;32m----> 8\u001b[0;31m     \u001b[0mpred_count\u001b[0m \u001b[0;34m=\u001b[0m \u001b[0mmodel\u001b[0m\u001b[0;34m.\u001b[0m\u001b[0mpredict\u001b[0m\u001b[0;34m(\u001b[0m\u001b[0mnew_test_df\u001b[0m\u001b[0;34m[\u001b[0m\u001b[0mcols\u001b[0m\u001b[0;34m]\u001b[0m\u001b[0;34m)\u001b[0m\u001b[0;34m\u001b[0m\u001b[0;34m\u001b[0m\u001b[0m\n\u001b[0m\u001b[1;32m      9\u001b[0m \u001b[0;34m\u001b[0m\u001b[0m\n\u001b[1;32m     10\u001b[0m     \u001b[0;31m# score the model on the new test set\u001b[0m\u001b[0;34m\u001b[0m\u001b[0;34m\u001b[0m\u001b[0;34m\u001b[0m\u001b[0m\n",
            "\u001b[0;32m/usr/local/lib/python3.7/dist-packages/sklearn/tree/_classes.py\u001b[0m in \u001b[0;36mpredict\u001b[0;34m(self, X, check_input)\u001b[0m\n\u001b[1;32m    416\u001b[0m             \u001b[0mThe\u001b[0m \u001b[0mpredicted\u001b[0m \u001b[0mclasses\u001b[0m\u001b[0;34m,\u001b[0m \u001b[0;32mor\u001b[0m \u001b[0mthe\u001b[0m \u001b[0mpredict\u001b[0m \u001b[0mvalues\u001b[0m\u001b[0;34m.\u001b[0m\u001b[0;34m\u001b[0m\u001b[0;34m\u001b[0m\u001b[0m\n\u001b[1;32m    417\u001b[0m         \"\"\"\n\u001b[0;32m--> 418\u001b[0;31m         \u001b[0mcheck_is_fitted\u001b[0m\u001b[0;34m(\u001b[0m\u001b[0mself\u001b[0m\u001b[0;34m)\u001b[0m\u001b[0;34m\u001b[0m\u001b[0;34m\u001b[0m\u001b[0m\n\u001b[0m\u001b[1;32m    419\u001b[0m         \u001b[0mX\u001b[0m \u001b[0;34m=\u001b[0m \u001b[0mself\u001b[0m\u001b[0;34m.\u001b[0m\u001b[0m_validate_X_predict\u001b[0m\u001b[0;34m(\u001b[0m\u001b[0mX\u001b[0m\u001b[0;34m,\u001b[0m \u001b[0mcheck_input\u001b[0m\u001b[0;34m)\u001b[0m\u001b[0;34m\u001b[0m\u001b[0;34m\u001b[0m\u001b[0m\n\u001b[1;32m    420\u001b[0m         \u001b[0mproba\u001b[0m \u001b[0;34m=\u001b[0m \u001b[0mself\u001b[0m\u001b[0;34m.\u001b[0m\u001b[0mtree_\u001b[0m\u001b[0;34m.\u001b[0m\u001b[0mpredict\u001b[0m\u001b[0;34m(\u001b[0m\u001b[0mX\u001b[0m\u001b[0;34m)\u001b[0m\u001b[0;34m\u001b[0m\u001b[0;34m\u001b[0m\u001b[0m\n",
            "\u001b[0;32m/usr/local/lib/python3.7/dist-packages/sklearn/utils/validation.py\u001b[0m in \u001b[0;36mcheck_is_fitted\u001b[0;34m(estimator, attributes, msg, all_or_any)\u001b[0m\n\u001b[1;32m    965\u001b[0m \u001b[0;34m\u001b[0m\u001b[0m\n\u001b[1;32m    966\u001b[0m     \u001b[0;32mif\u001b[0m \u001b[0;32mnot\u001b[0m \u001b[0mattrs\u001b[0m\u001b[0;34m:\u001b[0m\u001b[0;34m\u001b[0m\u001b[0;34m\u001b[0m\u001b[0m\n\u001b[0;32m--> 967\u001b[0;31m         \u001b[0;32mraise\u001b[0m \u001b[0mNotFittedError\u001b[0m\u001b[0;34m(\u001b[0m\u001b[0mmsg\u001b[0m \u001b[0;34m%\u001b[0m \u001b[0;34m{\u001b[0m\u001b[0;34m'name'\u001b[0m\u001b[0;34m:\u001b[0m \u001b[0mtype\u001b[0m\u001b[0;34m(\u001b[0m\u001b[0mestimator\u001b[0m\u001b[0;34m)\u001b[0m\u001b[0;34m.\u001b[0m\u001b[0m__name__\u001b[0m\u001b[0;34m}\u001b[0m\u001b[0;34m)\u001b[0m\u001b[0;34m\u001b[0m\u001b[0;34m\u001b[0m\u001b[0m\n\u001b[0m\u001b[1;32m    968\u001b[0m \u001b[0;34m\u001b[0m\u001b[0m\n\u001b[1;32m    969\u001b[0m \u001b[0;34m\u001b[0m\u001b[0m\n",
            "\u001b[0;31mNotFittedError\u001b[0m: This DecisionTreeRegressor instance is not fitted yet. Call 'fit' with appropriate arguments before using this estimator."
          ]
        }
      ]
    },
    {
      "cell_type": "code",
      "metadata": {
        "id": "cwfU9qIiQaMC"
      },
      "source": [
        "print(\"Best rmse: \", best_rmse)"
      ],
      "execution_count": null,
      "outputs": []
    },
    {
      "cell_type": "markdown",
      "metadata": {
        "id": "Pyz7i_eJC2Iv"
      },
      "source": [
        "# Creating the test file output\n"
      ]
    },
    {
      "cell_type": "code",
      "metadata": {
        "id": "7NhVh6ysC4Sp"
      },
      "source": [
        "# read in the test data\n",
        "test_df = pd.read_csv('test_luc.csv', header=0)\n",
        "print(\"\\nNumber of samples:\",test_df.shape[0] ,\"and number of features:\",test_df.shape[1],\"\\n\")\n",
        "\n",
        "# must add that new feature into the test data too, to use it in prediction\n",
        "test_df['hour'] = test_df['datetime'].map(hour_of_day)\n",
        "\n",
        "# show the test data output to be sure it read in correctly and added the column\n",
        "test_df.head()\n",
        "\n",
        "# fit the selected model TO YOUR FULL TRAINING SET\n",
        "#history = best_model.fit( train_df[cols], train_df['count'])\n",
        "\n",
        "# apply to the test data FOR WHICH YOU DON'T HAVE THE ANSWERS\n",
        "# (not the \"test set\" you used for model selection and tuning)\n",
        "final_cols = ['hour', 'season', 'holiday', 'workingday', 'weather', 'temp', 'humidity']\n",
        "test_cnn = test_df[final_cols].to_numpy()\n",
        "test_cnn = test_cnn.reshape(test_cnn.shape[0], test_cnn.shape[1], 1)\n",
        "pred_count = best_model.predict(test_cnn)\n",
        "\n",
        "# add the prediction column (in case you want to inspect it later)\n",
        "test_df['count'] = pred_count\n",
        "\n",
        "# save the predicted count as a csv with a header column and datetime row\n",
        "test_df = test_df[['datetime','count']].to_csv('my_prediction.csv', \n",
        "    index=False, header=True)\n",
        "print(\"Prediction complete. Saved as my_prediction.csv\")"
      ],
      "execution_count": null,
      "outputs": []
    },
    {
      "cell_type": "code",
      "metadata": {
        "id": "UsfJwD3zOgt2"
      },
      "source": [
        "# Scratch\n",
        "\n",
        "\n",
        "# Current RMS error of: 73.44168707407283 \n",
        "# Last RMS error: 79\n",
        "# print(\"RMS error of:\", rms, \"\\n\")\n",
        "# Best cols:  ['season', 'holiday', 'workingday', 'temp', 'windspeed']\n",
        "# With RMSE:  67.09231422002402\n",
        "\n",
        "\n",
        "# cnn_model = Sequential()\n",
        "# cnn_model.add(Dense(6,activation = tf.keras.activations.relu, input_shape=(6,1), \n",
        "#                        kernel_regularizer=regularizers.l2(0.01), \n",
        "#                        activity_regularizer=regularizers.l1(0.01)))\n",
        "# cnn_model.add(Dense(3, activation=\"relu\"))\n",
        "# cnn_model.add(Dropout(0.1, noise_shape=None))\n",
        "# cnn_model.add(Dense(1))\n",
        "# cnn_model.compile(loss=\"mse\", optimizer=\"adam\", metrics=['mae', 'mse'])\n",
        "\n",
        "# def rms_loss(y_actual, y_predicted):\n",
        "#     with tf.name_scope('rms_loss'):\n",
        "#         return np.sqrt(mean_squared_error(y_actual, y_predicted))\n",
        "\n",
        "\n",
        "# cnn_model = Sequential()\n",
        "# cnn_model.add(Conv1D(32, 2, input_shape=(6, 1)))\n",
        "# cnn_model.add(Dense(64, activation=\"relu\"))\n",
        "# cnn_model.add(BatchNormalization())\n",
        "# cnn_model.add(MaxPool1D())\n",
        "# cnn_model.add(Flatten())\n",
        "# cnn_model.add(Dense(32, activation=\"relu\"))\n",
        "# cnn_model.add(Dropout(0.1))\n",
        "# cnn_model.add(Dense(1))\n",
        "\n",
        "\n",
        "    # model = Sequential()\n",
        "    # model.add(Conv1D(filters=64, kernel_size=2, activation='relu', input_shape=(6, 1)))\n",
        "    # model.add(Conv1D(filters=64, kernel_size=3, activation='relu'))\n",
        "    # model.add(Dropout(0.5))\n",
        "    # model.add(MaxPool1D(pool_size=2))\n",
        "    # model.add(Flatten())\n",
        "    # model.add(Dense(100, activation='relu'))\n",
        "    # model.add(Dense(1, activation='softmax'))\n",
        "  # Input dimensions: (None, 3, 3, 512)\n",
        "#   model.add(Flatten())\n",
        "#   model.add(Dense(512,activation='relu'))\n",
        "#   model.add(Dropout(0.1))\n",
        "#   model.add(Dense(1))\n",
        "  "
      ],
      "execution_count": null,
      "outputs": []
    }
  ]
}